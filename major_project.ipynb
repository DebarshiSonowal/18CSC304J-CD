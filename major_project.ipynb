{
  "nbformat": 4,
  "nbformat_minor": 0,
  "metadata": {
    "colab": {
      "provenance": [],
      "collapsed_sections": [],
      "include_colab_link": true
    },
    "kernelspec": {
      "name": "python3",
      "display_name": "Python 3"
    },
    "language_info": {
      "name": "python"
    }
  },
  "cells": [
    {
      "cell_type": "markdown",
      "metadata": {
        "id": "view-in-github",
        "colab_type": "text"
      },
      "source": [
        "<a href=\"https://colab.research.google.com/github/DebarshiSonowal/18CSC304J-CD/blob/master/major_project.ipynb\" target=\"_parent\"><img src=\"https://colab.research.google.com/assets/colab-badge.svg\" alt=\"Open In Colab\"/></a>"
      ]
    },
    {
      "cell_type": "code",
      "execution_count": null,
      "metadata": {
        "id": "cTGJoh0Neuz1"
      },
      "outputs": [],
      "source": [
        "from mpl_toolkits.mplot3d import Axes3D\n",
        "from sklearn.preprocessing import StandardScaler\n",
        "import matplotlib.pyplot as plt # plotting\n",
        "import os # accessing directory structure\n",
        "import numpy as np # linear algebra\n",
        "import pandas as pd # data processing, CSV file I/O (e.g. pd.read_csv)\n",
        "%matplotlib inline\n",
        "\n",
        "from sklearn.model_selection import train_test_split\n",
        "from sklearn.metrics import confusion_matrix\n",
        "from sklearn.utils import shuffle\n",
        "\n",
        "import nltk\n",
        "from nltk.tokenize import word_tokenize\n",
        "from nltk.corpus import stopwords\n",
        "from nltk.stem import WordNetLemmatizer\n",
        "from nltk.stem import PorterStemmer \n",
        "from nltk.tokenize import word_tokenize\n",
        "\n",
        "from keras.preprocessing.text import Tokenizer\n",
        "from keras.utils.np_utils import to_categorical\n",
        "from tensorflow.keras.preprocessing.sequence import pad_sequences\n",
        "from keras.layers import Embedding, Dense, Input, Flatten, Conv1D, MaxPooling1D, Embedding, Dropout, LSTM, concatenate\n",
        "from keras.models import Model, Sequential\n",
        "from tensorflow.keras import regularizers\n"
      ]
    },
    {
      "cell_type": "code",
      "source": [
        "from google.colab import drive\n",
        "drive.mount('/content/drive')"
      ],
      "metadata": {
        "colab": {
          "base_uri": "https://localhost:8080/"
        },
        "id": "6NsDe_zolUge",
        "outputId": "b93db7a6-30f0-4cc3-f73a-0f221ba6c0f3"
      },
      "execution_count": null,
      "outputs": [
        {
          "output_type": "stream",
          "name": "stdout",
          "text": [
            "Mounted at /content/drive\n"
          ]
        }
      ]
    },
    {
      "cell_type": "code",
      "source": [
        "df1 = pd.read_csv('drive/MyDrive/FinalYearProject/dataset.csv')\n",
        "df1"
      ],
      "metadata": {
        "id": "2jeQMgtXGsHr",
        "colab": {
          "base_uri": "https://localhost:8080/",
          "height": 424
        },
        "outputId": "29da2a07-fb79-49b2-f70a-f0b7e45bce70"
      },
      "execution_count": null,
      "outputs": [
        {
          "output_type": "execute_result",
          "data": {
            "text/plain": [
              "     Index                                            Comment  Label  \\\n",
              "0        1  বৰ বেয়া লাগে। এওঁলোকে জীৱন টো অকল নিজৰ বুলি ভ...      0   \n",
              "1        2                           দেখাত জেহাদি জেহাদি লাগে      1   \n",
              "2        3          এই বিজেপিৰ দালালটোক কোনোবাই জোতাৰে কোবা ঐ      1   \n",
              "3        4  তথাপিও ভোট বিজেপিকেই দিয়া হ'ব সিধা কথা লাগিলে...      0   \n",
              "4        5                  মদ খাই নিজৰ কেৰিয়াৰ ধ্বংস কৰিছে।      0   \n",
              "..     ...                                                ...    ...   \n",
              "995    996                          মেম চাহেবা।বৰলোকৰ মাইকী ।      1   \n",
              "996    997  আইমী বৰুৱা,  কালৈকো নকৰে পৰুৱা। ‌মাৰি দিলে কেঁ...      1   \n",
              "997    998  অসমত অসমীয়া হৈ সাহিতিক/কলা ব্যৱসায় কৰা তাৰকা...      0   \n",
              "998    999                আইমী বৰুৱা নহয় আইমী হাজৰিকা বুলি কৱ      1   \n",
              "999   1000     আইমীবৰুৱা ৰ লাজ আছেজদি আৰু চিনেমা নকৰে\\r\\n\\r\\n      1   \n",
              "\n",
              "                             Link  \n",
              "0                             NaN  \n",
              "1                             NaN  \n",
              "2                             NaN  \n",
              "3                             NaN  \n",
              "4                             NaN  \n",
              "..                            ...  \n",
              "995  https://youtu.be/9-9XHkozMCQ  \n",
              "996  https://youtu.be/9-9XHkozMCQ  \n",
              "997  https://youtu.be/9-9XHkozMCQ  \n",
              "998  https://youtu.be/9-9XHkozMCQ  \n",
              "999  https://youtu.be/9-9XHkozMCQ  \n",
              "\n",
              "[1000 rows x 4 columns]"
            ],
            "text/html": [
              "\n",
              "  <div id=\"df-178dd6ac-4ab7-4b5c-90e7-55ee5ddfad39\">\n",
              "    <div class=\"colab-df-container\">\n",
              "      <div>\n",
              "<style scoped>\n",
              "    .dataframe tbody tr th:only-of-type {\n",
              "        vertical-align: middle;\n",
              "    }\n",
              "\n",
              "    .dataframe tbody tr th {\n",
              "        vertical-align: top;\n",
              "    }\n",
              "\n",
              "    .dataframe thead th {\n",
              "        text-align: right;\n",
              "    }\n",
              "</style>\n",
              "<table border=\"1\" class=\"dataframe\">\n",
              "  <thead>\n",
              "    <tr style=\"text-align: right;\">\n",
              "      <th></th>\n",
              "      <th>Index</th>\n",
              "      <th>Comment</th>\n",
              "      <th>Label</th>\n",
              "      <th>Link</th>\n",
              "    </tr>\n",
              "  </thead>\n",
              "  <tbody>\n",
              "    <tr>\n",
              "      <th>0</th>\n",
              "      <td>1</td>\n",
              "      <td>বৰ বেয়া লাগে। এওঁলোকে জীৱন টো অকল নিজৰ বুলি ভ...</td>\n",
              "      <td>0</td>\n",
              "      <td>NaN</td>\n",
              "    </tr>\n",
              "    <tr>\n",
              "      <th>1</th>\n",
              "      <td>2</td>\n",
              "      <td>দেখাত জেহাদি জেহাদি লাগে</td>\n",
              "      <td>1</td>\n",
              "      <td>NaN</td>\n",
              "    </tr>\n",
              "    <tr>\n",
              "      <th>2</th>\n",
              "      <td>3</td>\n",
              "      <td>এই বিজেপিৰ দালালটোক কোনোবাই জোতাৰে কোবা ঐ</td>\n",
              "      <td>1</td>\n",
              "      <td>NaN</td>\n",
              "    </tr>\n",
              "    <tr>\n",
              "      <th>3</th>\n",
              "      <td>4</td>\n",
              "      <td>তথাপিও ভোট বিজেপিকেই দিয়া হ'ব সিধা কথা লাগিলে...</td>\n",
              "      <td>0</td>\n",
              "      <td>NaN</td>\n",
              "    </tr>\n",
              "    <tr>\n",
              "      <th>4</th>\n",
              "      <td>5</td>\n",
              "      <td>মদ খাই নিজৰ কেৰিয়াৰ ধ্বংস কৰিছে।</td>\n",
              "      <td>0</td>\n",
              "      <td>NaN</td>\n",
              "    </tr>\n",
              "    <tr>\n",
              "      <th>...</th>\n",
              "      <td>...</td>\n",
              "      <td>...</td>\n",
              "      <td>...</td>\n",
              "      <td>...</td>\n",
              "    </tr>\n",
              "    <tr>\n",
              "      <th>995</th>\n",
              "      <td>996</td>\n",
              "      <td>মেম চাহেবা।বৰলোকৰ মাইকী ।</td>\n",
              "      <td>1</td>\n",
              "      <td>https://youtu.be/9-9XHkozMCQ</td>\n",
              "    </tr>\n",
              "    <tr>\n",
              "      <th>996</th>\n",
              "      <td>997</td>\n",
              "      <td>আইমী বৰুৱা,  কালৈকো নকৰে পৰুৱা। ‌মাৰি দিলে কেঁ...</td>\n",
              "      <td>1</td>\n",
              "      <td>https://youtu.be/9-9XHkozMCQ</td>\n",
              "    </tr>\n",
              "    <tr>\n",
              "      <th>997</th>\n",
              "      <td>998</td>\n",
              "      <td>অসমত অসমীয়া হৈ সাহিতিক/কলা ব্যৱসায় কৰা তাৰকা...</td>\n",
              "      <td>0</td>\n",
              "      <td>https://youtu.be/9-9XHkozMCQ</td>\n",
              "    </tr>\n",
              "    <tr>\n",
              "      <th>998</th>\n",
              "      <td>999</td>\n",
              "      <td>আইমী বৰুৱা নহয় আইমী হাজৰিকা বুলি কৱ</td>\n",
              "      <td>1</td>\n",
              "      <td>https://youtu.be/9-9XHkozMCQ</td>\n",
              "    </tr>\n",
              "    <tr>\n",
              "      <th>999</th>\n",
              "      <td>1000</td>\n",
              "      <td>আইমীবৰুৱা ৰ লাজ আছেজদি আৰু চিনেমা নকৰে\\r\\n\\r\\n</td>\n",
              "      <td>1</td>\n",
              "      <td>https://youtu.be/9-9XHkozMCQ</td>\n",
              "    </tr>\n",
              "  </tbody>\n",
              "</table>\n",
              "<p>1000 rows × 4 columns</p>\n",
              "</div>\n",
              "      <button class=\"colab-df-convert\" onclick=\"convertToInteractive('df-178dd6ac-4ab7-4b5c-90e7-55ee5ddfad39')\"\n",
              "              title=\"Convert this dataframe to an interactive table.\"\n",
              "              style=\"display:none;\">\n",
              "        \n",
              "  <svg xmlns=\"http://www.w3.org/2000/svg\" height=\"24px\"viewBox=\"0 0 24 24\"\n",
              "       width=\"24px\">\n",
              "    <path d=\"M0 0h24v24H0V0z\" fill=\"none\"/>\n",
              "    <path d=\"M18.56 5.44l.94 2.06.94-2.06 2.06-.94-2.06-.94-.94-2.06-.94 2.06-2.06.94zm-11 1L8.5 8.5l.94-2.06 2.06-.94-2.06-.94L8.5 2.5l-.94 2.06-2.06.94zm10 10l.94 2.06.94-2.06 2.06-.94-2.06-.94-.94-2.06-.94 2.06-2.06.94z\"/><path d=\"M17.41 7.96l-1.37-1.37c-.4-.4-.92-.59-1.43-.59-.52 0-1.04.2-1.43.59L10.3 9.45l-7.72 7.72c-.78.78-.78 2.05 0 2.83L4 21.41c.39.39.9.59 1.41.59.51 0 1.02-.2 1.41-.59l7.78-7.78 2.81-2.81c.8-.78.8-2.07 0-2.86zM5.41 20L4 18.59l7.72-7.72 1.47 1.35L5.41 20z\"/>\n",
              "  </svg>\n",
              "      </button>\n",
              "      \n",
              "  <style>\n",
              "    .colab-df-container {\n",
              "      display:flex;\n",
              "      flex-wrap:wrap;\n",
              "      gap: 12px;\n",
              "    }\n",
              "\n",
              "    .colab-df-convert {\n",
              "      background-color: #E8F0FE;\n",
              "      border: none;\n",
              "      border-radius: 50%;\n",
              "      cursor: pointer;\n",
              "      display: none;\n",
              "      fill: #1967D2;\n",
              "      height: 32px;\n",
              "      padding: 0 0 0 0;\n",
              "      width: 32px;\n",
              "    }\n",
              "\n",
              "    .colab-df-convert:hover {\n",
              "      background-color: #E2EBFA;\n",
              "      box-shadow: 0px 1px 2px rgba(60, 64, 67, 0.3), 0px 1px 3px 1px rgba(60, 64, 67, 0.15);\n",
              "      fill: #174EA6;\n",
              "    }\n",
              "\n",
              "    [theme=dark] .colab-df-convert {\n",
              "      background-color: #3B4455;\n",
              "      fill: #D2E3FC;\n",
              "    }\n",
              "\n",
              "    [theme=dark] .colab-df-convert:hover {\n",
              "      background-color: #434B5C;\n",
              "      box-shadow: 0px 1px 3px 1px rgba(0, 0, 0, 0.15);\n",
              "      filter: drop-shadow(0px 1px 2px rgba(0, 0, 0, 0.3));\n",
              "      fill: #FFFFFF;\n",
              "    }\n",
              "  </style>\n",
              "\n",
              "      <script>\n",
              "        const buttonEl =\n",
              "          document.querySelector('#df-178dd6ac-4ab7-4b5c-90e7-55ee5ddfad39 button.colab-df-convert');\n",
              "        buttonEl.style.display =\n",
              "          google.colab.kernel.accessAllowed ? 'block' : 'none';\n",
              "\n",
              "        async function convertToInteractive(key) {\n",
              "          const element = document.querySelector('#df-178dd6ac-4ab7-4b5c-90e7-55ee5ddfad39');\n",
              "          const dataTable =\n",
              "            await google.colab.kernel.invokeFunction('convertToInteractive',\n",
              "                                                     [key], {});\n",
              "          if (!dataTable) return;\n",
              "\n",
              "          const docLinkHtml = 'Like what you see? Visit the ' +\n",
              "            '<a target=\"_blank\" href=https://colab.research.google.com/notebooks/data_table.ipynb>data table notebook</a>'\n",
              "            + ' to learn more about interactive tables.';\n",
              "          element.innerHTML = '';\n",
              "          dataTable['output_type'] = 'display_data';\n",
              "          await google.colab.output.renderOutput(dataTable, element);\n",
              "          const docLink = document.createElement('div');\n",
              "          docLink.innerHTML = docLinkHtml;\n",
              "          element.appendChild(docLink);\n",
              "        }\n",
              "      </script>\n",
              "    </div>\n",
              "  </div>\n",
              "  "
            ]
          },
          "metadata": {},
          "execution_count": 3
        }
      ]
    },
    {
      "cell_type": "code",
      "source": [
        "print(df1.columns)\n",
        "df1.head(10)"
      ],
      "metadata": {
        "colab": {
          "base_uri": "https://localhost:8080/",
          "height": 381
        },
        "id": "ULTm5LnBvalk",
        "outputId": "60af91ab-bc65-45a3-ce57-37e532c3ba65"
      },
      "execution_count": null,
      "outputs": [
        {
          "output_type": "stream",
          "name": "stdout",
          "text": [
            "Index(['Index', 'Comment', 'Label', 'Link'], dtype='object')\n"
          ]
        },
        {
          "output_type": "execute_result",
          "data": {
            "text/plain": [
              "   Index                                            Comment  Label Link\n",
              "0      1  বৰ বেয়া লাগে। এওঁলোকে জীৱন টো অকল নিজৰ বুলি ভ...      0  NaN\n",
              "1      2                           দেখাত জেহাদি জেহাদি লাগে      1  NaN\n",
              "2      3          এই বিজেপিৰ দালালটোক কোনোবাই জোতাৰে কোবা ঐ      1  NaN\n",
              "3      4  তথাপিও ভোট বিজেপিকেই দিয়া হ'ব সিধা কথা লাগিলে...      0  NaN\n",
              "4      5                  মদ খাই নিজৰ কেৰিয়াৰ ধ্বংস কৰিছে।      0  NaN\n",
              "5      6  বিপ্লৱৰ কাইঁটীয়া পথ ইমান সহজ নহয় ঐ বাপুহঁত।স...      0  NaN\n",
              "6      7  কবলৈ ভাষাই নাথাকে নিৰৱ হৈ চকুলো টুকাৰ বাহিৰে। ...      0  NaN\n",
              "7      8  যিমানে ভন্দ হব, যিমাপে বেলগ ধৰ্মক বেয়া সমলোছনা...      0  NaN\n",
              "8      9  ৰাষ্ট্ৰসংঘকে ভংগ কৰি দিব লাগে , কাম নাইকিয়া ৰা...      0  NaN\n",
              "9     10  ক্লা , ঐ ফকটীয়া ফাল্টু ঘোঁ‌ৰা চহিচ । কাম নাই য...      1  NaN"
            ],
            "text/html": [
              "\n",
              "  <div id=\"df-8adddad1-b908-4205-a6d7-5f38f16405d4\">\n",
              "    <div class=\"colab-df-container\">\n",
              "      <div>\n",
              "<style scoped>\n",
              "    .dataframe tbody tr th:only-of-type {\n",
              "        vertical-align: middle;\n",
              "    }\n",
              "\n",
              "    .dataframe tbody tr th {\n",
              "        vertical-align: top;\n",
              "    }\n",
              "\n",
              "    .dataframe thead th {\n",
              "        text-align: right;\n",
              "    }\n",
              "</style>\n",
              "<table border=\"1\" class=\"dataframe\">\n",
              "  <thead>\n",
              "    <tr style=\"text-align: right;\">\n",
              "      <th></th>\n",
              "      <th>Index</th>\n",
              "      <th>Comment</th>\n",
              "      <th>Label</th>\n",
              "      <th>Link</th>\n",
              "    </tr>\n",
              "  </thead>\n",
              "  <tbody>\n",
              "    <tr>\n",
              "      <th>0</th>\n",
              "      <td>1</td>\n",
              "      <td>বৰ বেয়া লাগে। এওঁলোকে জীৱন টো অকল নিজৰ বুলি ভ...</td>\n",
              "      <td>0</td>\n",
              "      <td>NaN</td>\n",
              "    </tr>\n",
              "    <tr>\n",
              "      <th>1</th>\n",
              "      <td>2</td>\n",
              "      <td>দেখাত জেহাদি জেহাদি লাগে</td>\n",
              "      <td>1</td>\n",
              "      <td>NaN</td>\n",
              "    </tr>\n",
              "    <tr>\n",
              "      <th>2</th>\n",
              "      <td>3</td>\n",
              "      <td>এই বিজেপিৰ দালালটোক কোনোবাই জোতাৰে কোবা ঐ</td>\n",
              "      <td>1</td>\n",
              "      <td>NaN</td>\n",
              "    </tr>\n",
              "    <tr>\n",
              "      <th>3</th>\n",
              "      <td>4</td>\n",
              "      <td>তথাপিও ভোট বিজেপিকেই দিয়া হ'ব সিধা কথা লাগিলে...</td>\n",
              "      <td>0</td>\n",
              "      <td>NaN</td>\n",
              "    </tr>\n",
              "    <tr>\n",
              "      <th>4</th>\n",
              "      <td>5</td>\n",
              "      <td>মদ খাই নিজৰ কেৰিয়াৰ ধ্বংস কৰিছে।</td>\n",
              "      <td>0</td>\n",
              "      <td>NaN</td>\n",
              "    </tr>\n",
              "    <tr>\n",
              "      <th>5</th>\n",
              "      <td>6</td>\n",
              "      <td>বিপ্লৱৰ কাইঁটীয়া পথ ইমান সহজ নহয় ঐ বাপুহঁত।স...</td>\n",
              "      <td>0</td>\n",
              "      <td>NaN</td>\n",
              "    </tr>\n",
              "    <tr>\n",
              "      <th>6</th>\n",
              "      <td>7</td>\n",
              "      <td>কবলৈ ভাষাই নাথাকে নিৰৱ হৈ চকুলো টুকাৰ বাহিৰে। ...</td>\n",
              "      <td>0</td>\n",
              "      <td>NaN</td>\n",
              "    </tr>\n",
              "    <tr>\n",
              "      <th>7</th>\n",
              "      <td>8</td>\n",
              "      <td>যিমানে ভন্দ হব, যিমাপে বেলগ ধৰ্মক বেয়া সমলোছনা...</td>\n",
              "      <td>0</td>\n",
              "      <td>NaN</td>\n",
              "    </tr>\n",
              "    <tr>\n",
              "      <th>8</th>\n",
              "      <td>9</td>\n",
              "      <td>ৰাষ্ট্ৰসংঘকে ভংগ কৰি দিব লাগে , কাম নাইকিয়া ৰা...</td>\n",
              "      <td>0</td>\n",
              "      <td>NaN</td>\n",
              "    </tr>\n",
              "    <tr>\n",
              "      <th>9</th>\n",
              "      <td>10</td>\n",
              "      <td>ক্লা , ঐ ফকটীয়া ফাল্টু ঘোঁ‌ৰা চহিচ । কাম নাই য...</td>\n",
              "      <td>1</td>\n",
              "      <td>NaN</td>\n",
              "    </tr>\n",
              "  </tbody>\n",
              "</table>\n",
              "</div>\n",
              "      <button class=\"colab-df-convert\" onclick=\"convertToInteractive('df-8adddad1-b908-4205-a6d7-5f38f16405d4')\"\n",
              "              title=\"Convert this dataframe to an interactive table.\"\n",
              "              style=\"display:none;\">\n",
              "        \n",
              "  <svg xmlns=\"http://www.w3.org/2000/svg\" height=\"24px\"viewBox=\"0 0 24 24\"\n",
              "       width=\"24px\">\n",
              "    <path d=\"M0 0h24v24H0V0z\" fill=\"none\"/>\n",
              "    <path d=\"M18.56 5.44l.94 2.06.94-2.06 2.06-.94-2.06-.94-.94-2.06-.94 2.06-2.06.94zm-11 1L8.5 8.5l.94-2.06 2.06-.94-2.06-.94L8.5 2.5l-.94 2.06-2.06.94zm10 10l.94 2.06.94-2.06 2.06-.94-2.06-.94-.94-2.06-.94 2.06-2.06.94z\"/><path d=\"M17.41 7.96l-1.37-1.37c-.4-.4-.92-.59-1.43-.59-.52 0-1.04.2-1.43.59L10.3 9.45l-7.72 7.72c-.78.78-.78 2.05 0 2.83L4 21.41c.39.39.9.59 1.41.59.51 0 1.02-.2 1.41-.59l7.78-7.78 2.81-2.81c.8-.78.8-2.07 0-2.86zM5.41 20L4 18.59l7.72-7.72 1.47 1.35L5.41 20z\"/>\n",
              "  </svg>\n",
              "      </button>\n",
              "      \n",
              "  <style>\n",
              "    .colab-df-container {\n",
              "      display:flex;\n",
              "      flex-wrap:wrap;\n",
              "      gap: 12px;\n",
              "    }\n",
              "\n",
              "    .colab-df-convert {\n",
              "      background-color: #E8F0FE;\n",
              "      border: none;\n",
              "      border-radius: 50%;\n",
              "      cursor: pointer;\n",
              "      display: none;\n",
              "      fill: #1967D2;\n",
              "      height: 32px;\n",
              "      padding: 0 0 0 0;\n",
              "      width: 32px;\n",
              "    }\n",
              "\n",
              "    .colab-df-convert:hover {\n",
              "      background-color: #E2EBFA;\n",
              "      box-shadow: 0px 1px 2px rgba(60, 64, 67, 0.3), 0px 1px 3px 1px rgba(60, 64, 67, 0.15);\n",
              "      fill: #174EA6;\n",
              "    }\n",
              "\n",
              "    [theme=dark] .colab-df-convert {\n",
              "      background-color: #3B4455;\n",
              "      fill: #D2E3FC;\n",
              "    }\n",
              "\n",
              "    [theme=dark] .colab-df-convert:hover {\n",
              "      background-color: #434B5C;\n",
              "      box-shadow: 0px 1px 3px 1px rgba(0, 0, 0, 0.15);\n",
              "      filter: drop-shadow(0px 1px 2px rgba(0, 0, 0, 0.3));\n",
              "      fill: #FFFFFF;\n",
              "    }\n",
              "  </style>\n",
              "\n",
              "      <script>\n",
              "        const buttonEl =\n",
              "          document.querySelector('#df-8adddad1-b908-4205-a6d7-5f38f16405d4 button.colab-df-convert');\n",
              "        buttonEl.style.display =\n",
              "          google.colab.kernel.accessAllowed ? 'block' : 'none';\n",
              "\n",
              "        async function convertToInteractive(key) {\n",
              "          const element = document.querySelector('#df-8adddad1-b908-4205-a6d7-5f38f16405d4');\n",
              "          const dataTable =\n",
              "            await google.colab.kernel.invokeFunction('convertToInteractive',\n",
              "                                                     [key], {});\n",
              "          if (!dataTable) return;\n",
              "\n",
              "          const docLinkHtml = 'Like what you see? Visit the ' +\n",
              "            '<a target=\"_blank\" href=https://colab.research.google.com/notebooks/data_table.ipynb>data table notebook</a>'\n",
              "            + ' to learn more about interactive tables.';\n",
              "          element.innerHTML = '';\n",
              "          dataTable['output_type'] = 'display_data';\n",
              "          await google.colab.output.renderOutput(dataTable, element);\n",
              "          const docLink = document.createElement('div');\n",
              "          docLink.innerHTML = docLinkHtml;\n",
              "          element.appendChild(docLink);\n",
              "        }\n",
              "      </script>\n",
              "    </div>\n",
              "  </div>\n",
              "  "
            ]
          },
          "metadata": {},
          "execution_count": 4
        }
      ]
    },
    {
      "cell_type": "code",
      "source": [
        "df1.isnull().sum()"
      ],
      "metadata": {
        "colab": {
          "base_uri": "https://localhost:8080/"
        },
        "id": "o-6DnMSA1V5O",
        "outputId": "af0d7b8c-0018-4bec-a991-241a9d7c9a03"
      },
      "execution_count": null,
      "outputs": [
        {
          "output_type": "execute_result",
          "data": {
            "text/plain": [
              "Index        0\n",
              "Comment      0\n",
              "Label        0\n",
              "Link       769\n",
              "dtype: int64"
            ]
          },
          "metadata": {},
          "execution_count": 5
        }
      ]
    },
    {
      "cell_type": "code",
      "source": [
        "import nltk\n",
        "nltk.download('omw-1.4')\n",
        "# Converting all string to lower case\n",
        "df1 = df1.apply(lambda x: x.astype(str).str.lower())\n",
        "\n",
        "# Removing Punctuations\n",
        "df1.Comment = df1.Comment.str.replace('[^\\s\\w]','')\n",
        "\n",
        "# Removing HTML Tags\n",
        "df1.Comment = df1.Comment.str.replace('[^\\s\\w]','')\n",
        "\n",
        "# Tokenizing\n",
        "nltk.download('punkt')\n",
        "\n",
        "df1['comment_token'] = df1['Comment'].apply(lambda x: word_tokenize(x))\n",
        "\n",
        "# Stemming\n",
        "ps = PorterStemmer() \n",
        "\n",
        "df1.Comment = df1.comment_token.apply(lambda x: list(ps.stem(i) for i in x))\n",
        "\n",
        "# Removing the stop words and Rejoining \n",
        "nltk.download('stopwords')\n",
        "stops = set(stopwords.words(\"english\"))                  \n",
        "\n",
        "df1.Comment = df1.Comment.apply(lambda x: ' '.join(list(i for i in x if i not in stops)))\n",
        "\n",
        "# Lammatizing\n",
        "nltk.download('wordnet')\n",
        "lamatizer = WordNetLemmatizer()\n",
        "\n",
        "df1.Comment.apply(lambda x: lamatizer.lemmatize(x))"
      ],
      "metadata": {
        "colab": {
          "base_uri": "https://localhost:8080/"
        },
        "id": "kj4sNhNw1oJp",
        "outputId": "33150907-ea2d-4c03-9e3d-47708851aaa4"
      },
      "execution_count": null,
      "outputs": [
        {
          "output_type": "stream",
          "name": "stderr",
          "text": [
            "[nltk_data] Downloading package omw-1.4 to /root/nltk_data...\n",
            "/usr/local/lib/python3.7/dist-packages/ipykernel_launcher.py:7: FutureWarning: The default value of regex will change from True to False in a future version.\n",
            "  import sys\n",
            "/usr/local/lib/python3.7/dist-packages/ipykernel_launcher.py:10: FutureWarning: The default value of regex will change from True to False in a future version.\n",
            "  # Remove the CWD from sys.path while we load stuff.\n",
            "[nltk_data] Downloading package punkt to /root/nltk_data...\n",
            "[nltk_data]   Unzipping tokenizers/punkt.zip.\n",
            "[nltk_data] Downloading package stopwords to /root/nltk_data...\n",
            "[nltk_data]   Unzipping corpora/stopwords.zip.\n",
            "[nltk_data] Downloading package wordnet to /root/nltk_data...\n"
          ]
        },
        {
          "output_type": "execute_result",
          "data": {
            "text/plain": [
              "0                      বৰ বয লগ এওলক জৱন ট অকল নজৰ বল ভৱ\n",
              "1                                         দখত জহদ জহদ লগ\n",
              "2                            এই বজপৰ দললটক কনবই জতৰ কব ঐ\n",
              "3      তথপও ভট বজপকই দয হব সধ কথ লগল ভকষৰ হম তথপও ভট ...\n",
              "4                                 মদ খই নজৰ কৰযৰ ধবস কৰছ\n",
              "                             ...                        \n",
              "995                                      মম চহববৰলকৰ মইক\n",
              "996                আইম বৰৱ কলক নকৰ পৰৱ মৰ দল কচৱ উভত নচৱ\n",
              "997    অসমত অসময হ সহতককল বযৱসয কৰ তৰক সকলল এট বশষ অন...\n",
              "998                           আইম বৰৱ নহয় আইম হজৰক বল কৱ\n",
              "999                          আইমবৰৱ ৰ লজ আছজদ আৰ চনম নকৰ\n",
              "Name: Comment, Length: 1000, dtype: object"
            ]
          },
          "metadata": {},
          "execution_count": 6
        }
      ]
    },
    {
      "cell_type": "code",
      "source": [
        "df1.columns"
      ],
      "metadata": {
        "colab": {
          "base_uri": "https://localhost:8080/"
        },
        "id": "51MXcCQJ2UOd",
        "outputId": "8757b521-1561-4d5f-f516-b21060e5ef52"
      },
      "execution_count": null,
      "outputs": [
        {
          "output_type": "execute_result",
          "data": {
            "text/plain": [
              "Index(['Index', 'Comment', 'Label', 'Link', 'comment_token'], dtype='object')"
            ]
          },
          "metadata": {},
          "execution_count": 7
        }
      ]
    },
    {
      "cell_type": "code",
      "source": [
        "tokenizer = Tokenizer(num_words = 4500, filters='!\"#$%&()*+,-./:;<=>?@[\\\\]^_`{|}~\\t\\n', lower = True, split = ' ')\n",
        "tokenizer.fit_on_texts(texts = df1.Comment)\n",
        "X1 = tokenizer.texts_to_sequences(texts = df1.Label)\n",
        "# X2 = tokenizer.texts_to_sequences(texts = df1.offensive_language)\n",
        "# X3 = tokenizer.texts_to_sequences(texts = df1.neither)\n",
        "X4 = tokenizer.texts_to_sequences(texts = df1.Comment)\n",
        "word_index = tokenizer.word_index"
      ],
      "metadata": {
        "id": "vxtCkG1n2kb-"
      },
      "execution_count": null,
      "outputs": []
    },
    {
      "cell_type": "code",
      "source": [
        "\n",
        "data1 = pad_sequences(sequences= X1)\n",
        "class1 = to_categorical(np.asarray(df1['Label']), num_classes = 3)\n",
        "\n",
        "\n",
        "\n",
        "\n",
        "print('Length of data1 tensor:', data1.shape)\n",
        "# print('Length of labels1 tensor:', class1.shape)\n",
        "# print('Length of data1 tensor:', data2.shape)\n",
        "# print('Length of labels1 tensor:', class2.shape)"
      ],
      "metadata": {
        "id": "9X8W-e62x_cK",
        "colab": {
          "base_uri": "https://localhost:8080/"
        },
        "outputId": "f08cf8c7-cd53-478a-d150-e21831c9f7fa"
      },
      "execution_count": null,
      "outputs": [
        {
          "output_type": "stream",
          "name": "stdout",
          "text": [
            "Length of data1 tensor: (1000, 1)\n"
          ]
        }
      ]
    },
    {
      "cell_type": "code",
      "source": [
        "indices1 = np.arange(df1.shape[0])\n",
        "np.random.shuffle(indices1)\n",
        "data1 = data1[indices1]\n",
        "class1 = class1[indices1]\n",
        "x_train1, x_test1, y_train1, y_test1 = train_test_split(data1, class1, test_size=0.2, random_state=42)\n",
        "x_test1, x_val1, y_test1, y_val1 = train_test_split(data1, class1, test_size=0.4, random_state=42)\n",
        "print('1:')\n",
        "print(x_train1.shape)\n",
        "print(y_train1.shape)\n",
        "print(x_test1.shape)\n",
        "print(y_test1.shape)\n",
        "print(x_val1.shape)\n",
        "print(y_val1.shape)"
      ],
      "metadata": {
        "colab": {
          "base_uri": "https://localhost:8080/"
        },
        "id": "r6YbtW7EkQ0M",
        "outputId": "157daf4e-ec8b-428f-e36e-7d6e77153582"
      },
      "execution_count": null,
      "outputs": [
        {
          "output_type": "stream",
          "name": "stdout",
          "text": [
            "1:\n",
            "(800, 1)\n",
            "(800, 3)\n",
            "(600, 1)\n",
            "(600, 3)\n",
            "(400, 1)\n",
            "(400, 3)\n"
          ]
        }
      ]
    },
    {
      "cell_type": "code",
      "source": [
        "#Using Pre-trained word embeddings\n",
        "MAX_SEQUENCE_LENGTH = 1000\n",
        "GLOVE_DIR = \"drive/MyDrive/FinalYearProject/Glove/\" \n",
        "embeddings_index = {}\n",
        "f = open(os.path.join(GLOVE_DIR, 'glove.6B.100d.txt'), encoding=\"utf8\")\n",
        "for line in f:\n",
        "    values = line.split()\n",
        "    word = values[0]\n",
        "    coefs = np.asarray(values[1:], dtype='float32')\n",
        "    embeddings_index[word] = coefs\n",
        "f.close()\n",
        "\n",
        "print('Total %s word vectors in Glove.' % len(embeddings_index))\n",
        "\n",
        "embedding_matrix = np.random.random((len(word_index) + 1, 100))\n",
        "for word, i in word_index.items():\n",
        "    embedding_vector = embeddings_index.get(word)\n",
        "    if embedding_vector is not None:\n",
        "        # words not found in embedding index will be all-zeros.\n",
        "        embedding_matrix[i] = embedding_vector\n",
        "        \n",
        "embedding_layer = Embedding(len(word_index) + 1, 100, weights=[embedding_matrix], input_length=1000)"
      ],
      "metadata": {
        "id": "tTaoF1mYmk1n",
        "colab": {
          "base_uri": "https://localhost:8080/"
        },
        "outputId": "a6f230db-6a9e-4aa3-8a36-42656c3b251c"
      },
      "execution_count": null,
      "outputs": [
        {
          "output_type": "stream",
          "name": "stdout",
          "text": [
            "Total 400000 word vectors in Glove.\n"
          ]
        }
      ]
    },
    {
      "cell_type": "code",
      "source": [
        "### Model for 1st data set (test_data1)\n",
        "def LSTM_model(n, x_train, y_train, x_val, y_val, x_test, y_test):\n",
        "    lstm_model = Sequential()\n",
        "    lstm_model.add(Embedding(len(word_index) + 1, 100, weights = [embedding_matrix], input_length = MAX_SEQUENCE_LENGTH, trainable = False))\n",
        "    lstm_model.add(LSTM(128))\n",
        "    lstm_model.add(Dense(128, activation = 'relu'))\n",
        "    lstm_model.add(Dense(64, activation = 'relu'))\n",
        "    lstm_model.add(Dense(32, activation = 'relu'))\n",
        "    lstm_model.add(Dense(3, activation = 'softmax'))\n",
        "    lstm_model.compile(optimizer = 'adam', loss = 'binary_crossentropy', metrics = ['accuracy'])\n",
        "    lstm_model.summary()\n",
        "    history = lstm_model.fit(x_train, y_train, validation_data = (x_val, y_val), epochs = 15, batch_size = 128)\n",
        "    print('\\nModel Training Complete !')\n",
        "    \n",
        "    ### PREDICTION\n",
        "    y_preds = lstm_model.predict(x_test)\n",
        "    y_pred = np.round(y_preds)\n",
        "    cpred = float(sum(y_pred == y_test)[0])\n",
        "    cm = confusion_matrix(y_test.argmax(1), y_pred.argmax(1))\n",
        "    print(\"\\n-> Correct predictions:\", cpred)\n",
        "    print(\"\\n-> Total number of test examples:\", len(y_test))\n",
        "    print(\"\\n-> Accuracy of model: \", cpred/float(len(y_test)))\n",
        "    print(\"\\n-> Confusion for Dataset\",n,\": \", cm)\n",
        "\n",
        "    plt.matshow(cm, cmap=plt.cm.binary, interpolation='nearest')\n",
        "    plt.title('Confusion matrix - CNN Model 1')\n",
        "    plt.colorbar()\n",
        "    plt.ylabel('Expected label')\n",
        "    plt.xlabel('Predicted label')\n",
        "    plt.show()\n",
        "    return history"
      ],
      "metadata": {
        "id": "oOZeLj_6kYFD"
      },
      "execution_count": null,
      "outputs": []
    },
    {
      "cell_type": "code",
      "source": [
        "history = LSTM_model(1, x_train1, y_train1, x_val1, y_val1, x_test1, y_test1)"
      ],
      "metadata": {
        "colab": {
          "base_uri": "https://localhost:8080/",
          "height": 1000
        },
        "id": "9mVdtuhJmdgo",
        "outputId": "42e03829-efdc-44d7-a0b2-6b94891f61dc"
      },
      "execution_count": null,
      "outputs": [
        {
          "output_type": "stream",
          "name": "stdout",
          "text": [
            "Model: \"sequential\"\n",
            "_________________________________________________________________\n",
            " Layer (type)                Output Shape              Param #   \n",
            "=================================================================\n",
            " embedding_1 (Embedding)     (None, 1000, 100)         393700    \n",
            "                                                                 \n",
            " lstm (LSTM)                 (None, 128)               117248    \n",
            "                                                                 \n",
            " dense (Dense)               (None, 128)               16512     \n",
            "                                                                 \n",
            " dense_1 (Dense)             (None, 64)                8256      \n",
            "                                                                 \n",
            " dense_2 (Dense)             (None, 32)                2080      \n",
            "                                                                 \n",
            " dense_3 (Dense)             (None, 3)                 99        \n",
            "                                                                 \n",
            "=================================================================\n",
            "Total params: 537,895\n",
            "Trainable params: 144,195\n",
            "Non-trainable params: 393,700\n",
            "_________________________________________________________________\n",
            "Epoch 1/15\n"
          ]
        },
        {
          "output_type": "stream",
          "name": "stderr",
          "text": [
            "WARNING:tensorflow:Model was constructed with shape (None, 1000) for input KerasTensor(type_spec=TensorSpec(shape=(None, 1000), dtype=tf.float32, name='embedding_1_input'), name='embedding_1_input', description=\"created by layer 'embedding_1_input'\"), but it was called on an input with incompatible shape (None, 1).\n",
            "WARNING:tensorflow:Model was constructed with shape (None, 1000) for input KerasTensor(type_spec=TensorSpec(shape=(None, 1000), dtype=tf.float32, name='embedding_1_input'), name='embedding_1_input', description=\"created by layer 'embedding_1_input'\"), but it was called on an input with incompatible shape (None, 1).\n"
          ]
        },
        {
          "output_type": "stream",
          "name": "stdout",
          "text": [
            "7/7 [==============================] - ETA: 0s - loss: 0.6162 - accuracy: 0.9362 "
          ]
        },
        {
          "output_type": "stream",
          "name": "stderr",
          "text": [
            "WARNING:tensorflow:Model was constructed with shape (None, 1000) for input KerasTensor(type_spec=TensorSpec(shape=(None, 1000), dtype=tf.float32, name='embedding_1_input'), name='embedding_1_input', description=\"created by layer 'embedding_1_input'\"), but it was called on an input with incompatible shape (None, 1).\n"
          ]
        },
        {
          "output_type": "stream",
          "name": "stdout",
          "text": [
            "\b\b\b\b\b\b\b\b\b\b\b\b\b\b\b\b\b\b\b\b\b\b\b\b\b\b\b\b\b\b\b\b\b\b\b\b\b\b\b\b\b\b\b\b\b\b\b\b\b\b\b\b\b\b\b\b\b\b\b\b\b\b\b\b\b\b\b\b\b\b\b\b\b\b\b\b\b\b\b\b\r7/7 [==============================] - 4s 113ms/step - loss: 0.6162 - accuracy: 0.9362 - val_loss: 0.4903 - val_accuracy: 1.0000\n",
            "Epoch 2/15\n",
            "7/7 [==============================] - 0s 15ms/step - loss: 0.3884 - accuracy: 1.0000 - val_loss: 0.2153 - val_accuracy: 1.0000\n",
            "Epoch 3/15\n",
            "7/7 [==============================] - 0s 13ms/step - loss: 0.1335 - accuracy: 1.0000 - val_loss: 0.0400 - val_accuracy: 1.0000\n",
            "Epoch 4/15\n",
            "7/7 [==============================] - 0s 12ms/step - loss: 0.0200 - accuracy: 1.0000 - val_loss: 0.0042 - val_accuracy: 1.0000\n",
            "Epoch 5/15\n",
            "7/7 [==============================] - 0s 13ms/step - loss: 0.0022 - accuracy: 1.0000 - val_loss: 6.2224e-04 - val_accuracy: 1.0000\n",
            "Epoch 6/15\n",
            "7/7 [==============================] - 0s 14ms/step - loss: 3.8075e-04 - accuracy: 1.0000 - val_loss: 1.7334e-04 - val_accuracy: 1.0000\n",
            "Epoch 7/15\n",
            "7/7 [==============================] - 0s 14ms/step - loss: 1.2617e-04 - accuracy: 1.0000 - val_loss: 8.1104e-05 - val_accuracy: 1.0000\n",
            "Epoch 8/15\n",
            "7/7 [==============================] - 0s 13ms/step - loss: 6.6849e-05 - accuracy: 1.0000 - val_loss: 5.2848e-05 - val_accuracy: 1.0000\n",
            "Epoch 9/15\n",
            "7/7 [==============================] - 0s 15ms/step - loss: 4.7067e-05 - accuracy: 1.0000 - val_loss: 4.1636e-05 - val_accuracy: 1.0000\n",
            "Epoch 10/15\n",
            "7/7 [==============================] - 0s 12ms/step - loss: 3.8772e-05 - accuracy: 1.0000 - val_loss: 3.6343e-05 - val_accuracy: 1.0000\n",
            "Epoch 11/15\n",
            "7/7 [==============================] - 0s 12ms/step - loss: 3.4618e-05 - accuracy: 1.0000 - val_loss: 3.3494e-05 - val_accuracy: 1.0000\n",
            "Epoch 12/15\n",
            "7/7 [==============================] - 0s 12ms/step - loss: 3.2309e-05 - accuracy: 1.0000 - val_loss: 3.1742e-05 - val_accuracy: 1.0000\n",
            "Epoch 13/15\n",
            "7/7 [==============================] - 0s 14ms/step - loss: 3.0810e-05 - accuracy: 1.0000 - val_loss: 3.0518e-05 - val_accuracy: 1.0000\n",
            "Epoch 14/15\n",
            "7/7 [==============================] - 0s 13ms/step - loss: 2.9715e-05 - accuracy: 1.0000 - val_loss: 2.9557e-05 - val_accuracy: 1.0000\n",
            "Epoch 15/15\n",
            "7/7 [==============================] - 0s 12ms/step - loss: 2.8825e-05 - accuracy: 1.0000 - val_loss: 2.8712e-05 - val_accuracy: 1.0000\n",
            "\n",
            "Model Training Complete !\n"
          ]
        },
        {
          "output_type": "stream",
          "name": "stderr",
          "text": [
            "WARNING:tensorflow:Model was constructed with shape (None, 1000) for input KerasTensor(type_spec=TensorSpec(shape=(None, 1000), dtype=tf.float32, name='embedding_1_input'), name='embedding_1_input', description=\"created by layer 'embedding_1_input'\"), but it was called on an input with incompatible shape (None, 1).\n"
          ]
        },
        {
          "output_type": "stream",
          "name": "stdout",
          "text": [
            "19/19 [==============================] - 1s 2ms/step\n",
            "\n",
            "-> Correct predictions: 600.0\n",
            "\n",
            "-> Total number of test examples: 600\n",
            "\n",
            "-> Accuracy of model:  1.0\n",
            "\n",
            "-> Confusion for Dataset 1 :  [[351   0]\n",
            " [  0 249]]\n"
          ]
        },
        {
          "output_type": "display_data",
          "data": {
            "text/plain": [
              "<Figure size 288x288 with 2 Axes>"
            ],
            "image/png": "[encoded data removed]"
          },
          "metadata": {
            "needs_background": "light"
          }
        }
      ]
    },
    {
      "cell_type": "code",
      "source": [
        "print(history.history.keys())\n",
        "\n",
        "# summarize history for accuracy\n",
        "plt.plot(history.history['accuracy'])\n",
        "plt.plot(history.history['val_accuracy'])\n",
        "plt.title('model accuracy')\n",
        "plt.ylabel('Accuracy')\n",
        "plt.xlabel('Epoch')\n",
        "plt.legend(['Train', 'Test'], loc='upper left')\n",
        "plt.show()\n",
        "\n",
        "# summarize history for loss\n",
        "plt.plot(history.history['loss'])\n",
        "plt.plot(history.history['val_loss'])\n",
        "plt.title('model loss')\n",
        "plt.ylabel('Loss')\n",
        "plt.xlabel('Epoch')\n",
        "plt.legend(['Train', 'Test'], loc='upper left')\n",
        "plt.show()"
      ],
      "metadata": {
        "colab": {
          "base_uri": "https://localhost:8080/",
          "height": 591
        },
        "id": "NmUUVxAcsQWo",
        "outputId": "d66db7bd-a49e-4037-91f9-1529b2931955"
      },
      "execution_count": null,
      "outputs": [
        {
          "output_type": "stream",
          "name": "stdout",
          "text": [
            "dict_keys(['loss', 'accuracy', 'val_loss', 'val_accuracy'])\n"
          ]
        },
        {
          "output_type": "display_data",
          "data": {
            "text/plain": [
              "<Figure size 432x288 with 1 Axes>"
            ],
            "image/png": "[encoded data removed]"
          },
          "metadata": {
            "needs_background": "light"
          }
        },
        {
          "output_type": "display_data",
          "data": {
            "text/plain": [
              "<Figure size 432x288 with 1 Axes>"
            ],
            "image/png": "[encoded data removed]"
          },
          "metadata": {
            "needs_background": "light"
          }
        }
      ]
    },
    {
      "cell_type": "code",
      "source": [
        "lstm_model = Sequential()\n",
        "lstm_model.add(Embedding(len(word_index) + 1, 100, weights = [embedding_matrix], input_length = MAX_SEQUENCE_LENGTH, trainable = False))\n",
        "lstm_model.add(LSTM(128))\n",
        "lstm_model.add(Dense(128, activation = 'relu'))\n",
        "lstm_model.add(Dense(64, activation = 'relu'))\n",
        "lstm_model.add(Dense(32, activation = 'relu'))\n",
        "lstm_model.add(Dense(3, activation = 'softmax'))\n",
        "lstm_model.compile(optimizer = 'adam', loss = 'binary_crossentropy', metrics = ['accuracy'])\n",
        "lstm_model.summary()\n",
        "\n",
        "print(lstm_model.predict('মেম চাহেবা।বৰলোকৰ মাইকী ।'))\n",
        "\n"
      ],
      "metadata": {
        "colab": {
          "base_uri": "https://localhost:8080/",
          "height": 746
        },
        "id": "5tGc38-NsQdN",
        "outputId": "f5ceee19-2420-4f8f-f74b-741b4ca64b90"
      },
      "execution_count": null,
      "outputs": [
        {
          "output_type": "stream",
          "name": "stdout",
          "text": [
            "Model: \"sequential_1\"\n",
            "_________________________________________________________________\n",
            " Layer (type)                Output Shape              Param #   \n",
            "=================================================================\n",
            " embedding_2 (Embedding)     (None, 1000, 100)         393700    \n",
            "                                                                 \n",
            " lstm_1 (LSTM)               (None, 128)               117248    \n",
            "                                                                 \n",
            " dense_4 (Dense)             (None, 128)               16512     \n",
            "                                                                 \n",
            " dense_5 (Dense)             (None, 64)                8256      \n",
            "                                                                 \n",
            " dense_6 (Dense)             (None, 32)                2080      \n",
            "                                                                 \n",
            " dense_7 (Dense)             (None, 3)                 99        \n",
            "                                                                 \n",
            "=================================================================\n",
            "Total params: 537,895\n",
            "Trainable params: 144,195\n",
            "Non-trainable params: 393,700\n",
            "_________________________________________________________________\n"
          ]
        },
        {
          "output_type": "error",
          "ename": "IndexError",
          "evalue": "ignored",
          "traceback": [
            "\u001b[0;31m---------------------------------------------------------------------------\u001b[0m",
            "\u001b[0;31mIndexError\u001b[0m                                Traceback (most recent call last)",
            "\u001b[0;32m<ipython-input-18-fcc53b40b362>\u001b[0m in \u001b[0;36m<module>\u001b[0;34m\u001b[0m\n\u001b[1;32m      9\u001b[0m \u001b[0mlstm_model\u001b[0m\u001b[0;34m.\u001b[0m\u001b[0msummary\u001b[0m\u001b[0;34m(\u001b[0m\u001b[0;34m)\u001b[0m\u001b[0;34m\u001b[0m\u001b[0;34m\u001b[0m\u001b[0m\n\u001b[1;32m     10\u001b[0m \u001b[0;34m\u001b[0m\u001b[0m\n\u001b[0;32m---> 11\u001b[0;31m \u001b[0mprint\u001b[0m\u001b[0;34m(\u001b[0m\u001b[0mlstm_model\u001b[0m\u001b[0;34m.\u001b[0m\u001b[0mpredict\u001b[0m\u001b[0;34m(\u001b[0m\u001b[0;34m'মেম চাহেবা।বৰলোকৰ মাইকী ।'\u001b[0m\u001b[0;34m)\u001b[0m\u001b[0;34m)\u001b[0m\u001b[0;34m\u001b[0m\u001b[0;34m\u001b[0m\u001b[0m\n\u001b[0m\u001b[1;32m     12\u001b[0m \u001b[0;34m\u001b[0m\u001b[0m\n",
            "\u001b[0;32m/usr/local/lib/python3.7/dist-packages/keras/utils/traceback_utils.py\u001b[0m in \u001b[0;36merror_handler\u001b[0;34m(*args, **kwargs)\u001b[0m\n\u001b[1;32m     65\u001b[0m     \u001b[0;32mexcept\u001b[0m \u001b[0mException\u001b[0m \u001b[0;32mas\u001b[0m \u001b[0me\u001b[0m\u001b[0;34m:\u001b[0m  \u001b[0;31m# pylint: disable=broad-except\u001b[0m\u001b[0;34m\u001b[0m\u001b[0;34m\u001b[0m\u001b[0m\n\u001b[1;32m     66\u001b[0m       \u001b[0mfiltered_tb\u001b[0m \u001b[0;34m=\u001b[0m \u001b[0m_process_traceback_frames\u001b[0m\u001b[0;34m(\u001b[0m\u001b[0me\u001b[0m\u001b[0;34m.\u001b[0m\u001b[0m__traceback__\u001b[0m\u001b[0;34m)\u001b[0m\u001b[0;34m\u001b[0m\u001b[0;34m\u001b[0m\u001b[0m\n\u001b[0;32m---> 67\u001b[0;31m       \u001b[0;32mraise\u001b[0m \u001b[0me\u001b[0m\u001b[0;34m.\u001b[0m\u001b[0mwith_traceback\u001b[0m\u001b[0;34m(\u001b[0m\u001b[0mfiltered_tb\u001b[0m\u001b[0;34m)\u001b[0m \u001b[0;32mfrom\u001b[0m \u001b[0;32mNone\u001b[0m\u001b[0;34m\u001b[0m\u001b[0;34m\u001b[0m\u001b[0m\n\u001b[0m\u001b[1;32m     68\u001b[0m     \u001b[0;32mfinally\u001b[0m\u001b[0;34m:\u001b[0m\u001b[0;34m\u001b[0m\u001b[0;34m\u001b[0m\u001b[0m\n\u001b[1;32m     69\u001b[0m       \u001b[0;32mdel\u001b[0m \u001b[0mfiltered_tb\u001b[0m\u001b[0;34m\u001b[0m\u001b[0;34m\u001b[0m\u001b[0m\n",
            "\u001b[0;32m/usr/local/lib/python3.7/dist-packages/tensorflow/python/framework/tensor_shape.py\u001b[0m in \u001b[0;36m__getitem__\u001b[0;34m(self, key)\u001b[0m\n\u001b[1;32m    907\u001b[0m       \u001b[0;32melse\u001b[0m\u001b[0;34m:\u001b[0m\u001b[0;34m\u001b[0m\u001b[0;34m\u001b[0m\u001b[0m\n\u001b[1;32m    908\u001b[0m         \u001b[0;32mif\u001b[0m \u001b[0mself\u001b[0m\u001b[0;34m.\u001b[0m\u001b[0m_v2_behavior\u001b[0m\u001b[0;34m:\u001b[0m\u001b[0;34m\u001b[0m\u001b[0;34m\u001b[0m\u001b[0m\n\u001b[0;32m--> 909\u001b[0;31m           \u001b[0;32mreturn\u001b[0m \u001b[0mself\u001b[0m\u001b[0;34m.\u001b[0m\u001b[0m_dims\u001b[0m\u001b[0;34m[\u001b[0m\u001b[0mkey\u001b[0m\u001b[0;34m]\u001b[0m\u001b[0;34m\u001b[0m\u001b[0;34m\u001b[0m\u001b[0m\n\u001b[0m\u001b[1;32m    910\u001b[0m         \u001b[0;32melse\u001b[0m\u001b[0;34m:\u001b[0m\u001b[0;34m\u001b[0m\u001b[0;34m\u001b[0m\u001b[0m\n\u001b[1;32m    911\u001b[0m           \u001b[0;32mreturn\u001b[0m \u001b[0mself\u001b[0m\u001b[0;34m.\u001b[0m\u001b[0mdims\u001b[0m\u001b[0;34m[\u001b[0m\u001b[0mkey\u001b[0m\u001b[0;34m]\u001b[0m\u001b[0;34m\u001b[0m\u001b[0;34m\u001b[0m\u001b[0m\n",
            "\u001b[0;31mIndexError\u001b[0m: tuple index out of range"
          ]
        }
      ]
    },
    {
      "cell_type": "markdown",
      "source": [
        "# New Section"
      ],
      "metadata": {
        "id": "HXRWoDdJt3-a"
      }
    }
  ]
}